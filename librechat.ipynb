{
 "cells": [
  {
   "cell_type": "markdown",
   "metadata": {},
   "source": [
    "<h1 dir=rtl align=center style=\"line-height:200%;font-family:vazir;color:#0099cc\">\n",
    "<font face=\"vazir\" color=\"#0099cc\">\n",
    "LibreChat\n",
    "</font>\n",
    "</h1>\n",
    "\n",
    "<p dir=rtl style=\"direction: rtl; text-align: justify; line-height:200%; font-family:vazir; font-size:medium\">\n",
    "<font face=\"vazir\" size=3>\n",
    "در این پروژه می‌خواهیم به بهانه‌ی مروری بر فصل‌های پیشین به طراحی یک ربات گفت‌وگو بپردازیم که براساس داده‌هایی که از منابع مختلف همچون فایل‌های <code>PDF</code> / <code>Epub</code>، صفحات ویکی‌پدیا، وب‌سایت‌ها و غیره جمع‌آوری می‌شوند به پرسش‌های کاربران پاسخ می‌دهد. این داده‌ها به فلسفه‌ی لینوکس، نرم‌افزار آزاد و چهره‌های بزرگی که در آن نقش داشته‌اند مربوط هستند و به همین دلیل نام لیبره‌چت (LibreChat) را برای آن انتخاب کرده‌ایم.\n",
    "<br>\n",
    "همان‌طور که احتمالاً خودتان حدس زده‌اید برای طراحی چنین رباتی نیاز است که یک معماری RAG را پیاده‌سازی کنید. با این حال، انتخاب و اختیار تمام جزئیات و گام‌های آن بر عهده‌ی خودتان است. مهم این است که مدل شما در نهایت بتواند به تعداد خوبی از پرسش‌هایی که در نظر گرفته‌ایم به‌درستی پاسخ دهد. برای آن‌که نتایج به‌دست‌آمده قابل داوری خودکار باشند خروجی‌های مدل نیاز است به‌شکل یک سری عبارات تک یا چند کلمه‌ای تجزیه و ساختاریافته شوند. در بخش تولید خروجی در این‌باره بیشتر صحبت خواهیم کرد و قالب مورد انتظار را شرح خواهیم داد.\n",
    "</font>\n",
    "</p>"
   ]
  },
  {
   "cell_type": "markdown",
   "metadata": {},
   "source": [
    "<h2 dir=rtl align=right style=\"line-height:200%;font-family:vazir;color:#0099cc\">\n",
    "<font face=\"vazir\" color=\"#0099cc\">\n",
    "بارگیری داده‌ها\n",
    "</font>\n",
    "</h2>\n",
    "\n",
    "<p dir=rtl style=\"direction: rtl; text-align: justify; line-height:200%; font-family:vazir; font-size:medium\">\n",
    "<font face=\"vazir\">\n",
    "همان‌طور که اشاره شد در این پروژه قصد داریم از داده‌هایی با انواع متفاوت و از منابع گوناگون استفاده کنیم. بنابراین در ابتدا نیاز است به‌کمک توابع <code>LangChain</code> متناسب با هر نوع داده نسبت به خوانش ‌آن‌ها اقدام کنید تا تمام داده‌ها به‌شکل سند (<code>Document</code>) در بیایند و بتوانید آن‌ها را مشابه با همدیگر مدیریت کنید. در ادامه داده‌های مورد نیاز این پروژه را با توجه به نوع‌شان تفکیک کرده و ماهیت و منبع آن‌ها را شرح داده‌ایم.\n",
    "</font>\n",
    "</p>"
   ]
  },
  {
   "cell_type": "markdown",
   "metadata": {},
   "source": [
    "<h3 dir=rtl align=right style=\"line-height:200%;font-family:vazir;color:#0099cc\">\n",
    "<font face=\"vazir\" color=\"#0099cc\">\n",
    "فایل <code>PDF</code>\n",
    "</font>\n",
    "</h3>\n",
    "\n",
    "<p dir=rtl style=\"direction: rtl; text-align: justify; line-height:200%; font-family:vazir; font-size:medium\">\n",
    "<font face=\"vazir\">\n",
    "فایل <code>PDF</code> کتابی با نام «فقط برای تفریح - داستان یک انقلاب اتفاقی» نوشته‌ی لینوس توروالدز، خالق لینوکس و دیوید دیاموند با ترجمه‌ای آزاد از <a href=\"https://jadi.net/\" target=\"_blank\">جادی</a> در پوشه‌ی داده‌های پروژه (<code>data</code>) قرار گرفته است. سعی کنید به‌کمک توابع مخصوص لنگ‌چین جهت خوانش فایل‌های <code>PDF</code> (<a href=\"https://python.langchain.com/v0.2/docs/how_to/document_loader_pdf/\" target=\"_blank\">لینک به مستندات</a>) متن این کتاب را به‌شکل سند استخراج کنید.\n",
    "</font>\n",
    "</p>\n",
    "\n",
    "<p dir=rtl style=\"direction: rtl; text-align: justify; line-height:200%; font-family:vazir; font-size:medium\">\n",
    "<font face=\"vazir\">\n",
    "<span style=\"color:green\"><b>راهنمایی:</b></span>\n",
    "توجه داشته باشید که هر کدام از توابعی که در <code>LangChain</code> جهت خوانش فایل <code>PDF</code> در نظر گرفته شده از یک کتابخانه‌ی مجزا استفاده می‌کند و معمولاً باید چندین مورد مختلف را آزمایش کرد تا موردی با کیفیت خروجی مطلوب را برگزید. با این حال، یک پیشنهاد می‌تواند استفاده از <code>PyPDFium2Loader</code> باشد. البته اگر می‌خواهید متن کتاب را هر چه بهتر و دقیق‌تر استخراج کنید می‌توانید به‌دلخواه از ابزارها و تکنیک‌های دیگری نیز بهره ببرید. پیشنهاد می‌کنیم با توجه خروجی به‌دست‌آمده و بررسی آن‌ها یک سری پیش‌پردازش‌های متنی را جهت بهبود آن‌ها اعمال کنید. چند ایده درباره‌ی پیش‌پردازش متن در صفحه‌ی پروژه در سامانه‌ی کوئرا نوشته شده است.\n",
    "</font>\n",
    "</p>\n",
    "\n",
    "<p dir=rtl style=\"direction: rtl; text-align: justify; line-height:200%; font-family:vazir; font-size:medium\">\n",
    "<font face=\"vazir\">\n",
    "<span style=\"color:orange\"><b>نکته:</b></span>\n",
    "ممکن است با جست‌وجوهای خود به نسخه‌های دیگری از این کتاب همچون فایل <code>Epub</code> نیز برخورد کنید. با این حال پیشنهاد می‌شود که در همین پروژه با چالش‌های خوانش یک فایل <code>PDF</code> فارسی (آن هم فایلی که دیجیتالی نوشته شده است) مواجه شوید تا بتوانید از تجربه‌ی خود در پروژه‌های شخصی‌تان بهره ببرید.\n",
    "</font>\n",
    "</p>"
   ]
  },
  {
   "cell_type": "code",
   "metadata": {
    "ExecuteTime": {
     "end_time": "2025-06-08T12:42:36.045726Z",
     "start_time": "2025-06-08T12:42:35.134123Z"
    }
   },
   "source": [
    "from langchain_community.document_loaders import PyPDFium2Loader\n",
    "\n",
    "# TODO: Load the justforfun_persian.pdf file using a Langchain document loader\n",
    "import warnings\n",
    "warnings.filterwarnings(\"ignore\", category=UserWarning)\n",
    "loader = PyPDFium2Loader(\"data/justforfun_persian.pdf\")\n",
    "pdf_docs = loader.load()"
   ],
   "outputs": [],
   "execution_count": 1
  },
  {
   "cell_type": "code",
   "metadata": {
    "ExecuteTime": {
     "end_time": "2025-06-08T12:42:36.056272Z",
     "start_time": "2025-06-08T12:42:36.053948Z"
    }
   },
   "source": [
    "print(\"Number of pages (loaded Document objects):\", len(pdf_docs))"
   ],
   "outputs": [
    {
     "name": "stdout",
     "output_type": "stream",
     "text": [
      "Number of pages (loaded Document objects): 204\n"
     ]
    }
   ],
   "execution_count": 2
  },
  {
   "cell_type": "code",
   "metadata": {
    "ExecuteTime": {
     "end_time": "2025-06-08T12:42:36.076005Z",
     "start_time": "2025-06-08T12:42:36.074276Z"
    }
   },
   "source": [
    "# Take a look at a random page of the document \n",
    "print(pdf_docs[15].page_content)"
   ],
   "outputs": [
    {
     "name": "stdout",
     "output_type": "stream",
     "text": [
      "تولد یͷ نرد، بخش دوم صفحۀ ١١\r\n",
      "و او مͬ خواست من را هم در این تجربه شریͷ کند. همچنین مͬ خواست من را به ریاضͬ\r\n",
      "علاقمند کند.\r\n",
      "پس من را روی زانو هایش مͬ نشاند و از من مͬ خواست تا برنامه هایی که با دقت روی کاغذ\r\n",
      "نوشته بود را برایش تایپ کنم. مͬ گفت خودش با کامپیوترها راحت نیست. نمͬ دانم آن محاسبات\r\n",
      "راجع به چه چیزی بودند و بعید مͬ دانم که آن موقع هیچ درکͬ از کاری که مͬ کردم هم داشته باشم\r\n",
      "ولͬ به هرحال آنجا بودم و به او کمͷ مͬ کردم. احتمالا کار از حالتͬ که او خودش به تنهایی\r\n",
      "برنامه ها را وارد مͬ کرد، خیلͬ بیشتر طول مͬ کشید. ولͬ کسͬ چه مͬ داند؟ من از همان کودکͬ به\r\n",
      "صفحه کلید عادت کرده بودم، چیزی که پدربزرگم هیچ وقت امͺان اش را نداشت. بعد از مدرسه\r\n",
      "یا هر موقع دیͽری که مادرم من را پیش پدربزرگم مͬ گذاشت، مشغول همین کار مͬ شدیم.\r\n",
      "بعد شروع کردم به خواندن راهنماهای کامپیوتر و وارد کردن برنامه های آماده شده. مثال ها\r\n",
      "شامل بازی های ساده ای بودند که خودتان مͬ توانستید آن ها را وارد کنید. اگر همه چیز را درست\r\n",
      "تایپ مͬ کردید، یͷ آقایی با گرافیͷ بد، روی صفحه راه مͬ رفت. بعد مͬ توانستید برنامه را عوض\r\n",
      "کنید تا آقای راه رونده، رنگش عوض شود. شما خودتان مͬ توانستید این کار را بͺنید.\r\n",
      "این بالاترین لذت بود.\r\n",
      "شروع کردم به نوشتن برنامه های خودم. اولین برنامه ای که نوشتم، اولین برنامه ای بود که هر\r\n",
      "کسͬ مͬ نویسد:\r\n",
      "10 PRINT \"HELLO\"\r\n",
      "20 GOTO 10\r\n",
      "این برنامه دقیقا همان کاری را مͬ کند که انتظار دارید بͺند. روی صفحه مͬ نویسد “سلام” و\r\n",
      "تا ابد به این کار ادامه مͬ دهد. یا حداقل تا وقتͬ که شما از شدت سر رفتن حوصله تان، برنامه را\r\n",
      "قطع کنید.\r\n",
      "اما این قدم اول است. بعضͬ ها همین جا متوقف مͬ شوند.برای آن ها این برنامه احمقانه ای\r\n",
      "است چون “چرا باید کسͬ علاقمند باشد به میلیون ها کلمه ‘سلام’ خیره شود؟” اما به هرحال این\r\n",
      "برنامه تقریبا همیشه اولین برنامه در راهنماهایی بود که آن روزها همراه کامپیوترهای شخصͬ داده\r\n",
      "مͬ شدند.\r\n",
      "نکته جادویی اینجا است که شما مͬ توانید این برنامه را تغییر دهید. خواهرم مͬ گوید که من\r\n",
      "یͷ تغییر ریشه ای در برنامه دادم تا نسخه دومͬ بسازم که به جای نوشتن “سلام”، روی صفحه\r\n",
      "بارها و بارها مͬ نوشت “سارا بهترین است.” در کل من برادر بزرگ تر مهربانͬ نبودم ولͬ این ژست\r\n",
      "برنامه نویس،ͬ تاثیر زیادی روی خواهرم گذاشت.\r\n",
      "من این جریان را یادم نیست. هر بار که یͷ برنامه مͬ نوشتم، آن را فراموش مͬ کردم و سراغ\r\n",
      "برنامه بعدی مͬ رفتم.\n",
      "\n"
     ]
    }
   ],
   "execution_count": 3
  },
  {
   "cell_type": "code",
   "metadata": {
    "ExecuteTime": {
     "end_time": "2025-06-08T12:42:36.125818Z",
     "start_time": "2025-06-08T12:42:36.108646Z"
    }
   },
   "source": [
    "# TODO: Apply any necessary preprocessing to the document pages\n",
    "\n",
    "import re\n",
    "\n",
    "def clean_text(text: str) -> str:\n",
    "    text = re.sub(r'\\s+', ' ', text)\n",
    "    text = re.sub(r'[ـ]+', '', text)\n",
    "    text = text.replace(chr(876) + ' ', 'ی ')\n",
    "    text = text.replace(chr(876) + chr(13), 'ی ')\n",
    "    text = text.strip()\n",
    "    return text\n",
    "\n",
    "for doc in pdf_docs:\n",
    "    doc.page_content = clean_text(doc.page_content)\n",
    "\n",
    "print(pdf_docs[15].page_content)\n"
   ],
   "outputs": [
    {
     "name": "stdout",
     "output_type": "stream",
     "text": [
      "تولد یͷ نرد، بخش دوم صفحۀ ١١ و او می خواست من را هم در این تجربه شریͷ کند. همچنین می خواست من را به ریاضی علاقمند کند. پس من را روی زانو هایش می نشاند و از من می خواست تا برنامه هایی که با دقت روی کاغذ نوشته بود را برایش تایپ کنم. می گفت خودش با کامپیوترها راحت نیست. نمی دانم آن محاسبات راجع به چه چیزی بودند و بعید می دانم که آن موقع هیچ درکی از کاری که می کردم هم داشته باشم ولی به هرحال آنجا بودم و به او کمͷ می کردم. احتمالا کار از حالتی که او خودش به تنهایی برنامه ها را وارد می کرد، خیلی بیشتر طول می کشید. ولی کسی چه می داند؟ من از همان کودکی به صفحه کلید عادت کرده بودم، چیزی که پدربزرگم هیچ وقت امͺان اش را نداشت. بعد از مدرسه یا هر موقع دیͽری که مادرم من را پیش پدربزرگم می گذاشت، مشغول همین کار می شدیم. بعد شروع کردم به خواندن راهنماهای کامپیوتر و وارد کردن برنامه های آماده شده. مثال ها شامل بازی های ساده ای بودند که خودتان می توانستید آن ها را وارد کنید. اگر همه چیز را درست تایپ می کردید، یͷ آقایی با گرافیͷ بد، روی صفحه راه می رفت. بعد می توانستید برنامه را عوض کنید تا آقای راه رونده، رنگش عوض شود. شما خودتان می توانستید این کار را بͺنید. این بالاترین لذت بود. شروع کردم به نوشتن برنامه های خودم. اولین برنامه ای که نوشتم، اولین برنامه ای بود که هر کسی می نویسد: 10 PRINT \"HELLO\" 20 GOTO 10 این برنامه دقیقا همان کاری را می کند که انتظار دارید بͺند. روی صفحه می نویسد “سلام” و تا ابد به این کار ادامه می دهد. یا حداقل تا وقتی که شما از شدت سر رفتن حوصله تان، برنامه را قطع کنید. اما این قدم اول است. بعضی ها همین جا متوقف می شوند.برای آن ها این برنامه احمقانه ای است چون “چرا باید کسی علاقمند باشد به میلیون ها کلمه ‘سلام’ خیره شود؟” اما به هرحال این برنامه تقریبا همیشه اولین برنامه در راهنماهایی بود که آن روزها همراه کامپیوترهای شخصی داده می شدند. نکته جادویی اینجا است که شما می توانید این برنامه را تغییر دهید. خواهرم می گوید که من یͷ تغییر ریشه ای در برنامه دادم تا نسخه دومی بسازم که به جای نوشتن “سلام”، روی صفحه بارها و بارها می نوشت “سارا بهترین است.” در کل من برادر بزرگ تر مهربانی نبودم ولی این ژست برنامه نویس،ی تاثیر زیادی روی خواهرم گذاشت. من این جریان را یادم نیست. هر بار که یͷ برنامه می نوشتم، آن را فراموش می کردم و سراغ برنامه بعدی می رفتم.\n"
     ]
    }
   ],
   "execution_count": 4
  },
  {
   "cell_type": "markdown",
   "metadata": {},
   "source": [
    "\n",
    "<h3 dir=rtl align=right style=\"line-height:200%;font-family:vazir;color:#0099cc\">\n",
    "<font face=\"vazir\" color=\"#0099cc\">\n",
    "لینک وب\n",
    "</font>\n",
    "</h3>\n",
    "\n",
    "<p dir=rtl style=\"direction: rtl; text-align: justify; line-height:200%; font-family:vazir; font-size:medium\">\n",
    "<font face=\"vazir\">\n",
    "محتوای دیگری که قصد استفاده از آن را داریم کتاب «لینوکس و زندگی» از <a href=\"https://jadi.net/\" target=\"_blank\">جادی</a> است که به‌صورت آزاد در دسترس است. با این حال، این کتاب نسخه‌ی <code>PDF</code> نداشته و می‌خواهیم آن را مستقیماً از بستر وب بخوانیم. بنابراین نیاز است به‌کمک توابع مرتبط لنگ‌چین، محتوای لینک <a href=\"https://linuxbook.ir/all.html\" target=\"_blank\"><code dir=ltr>https://linuxbook.ir/all.html</code></a> را بارگیری کنید. برای این کار می‌توانید از تابع <code>WebBaseLoader</code> کمک بگیرید.\n",
    "</font>\n",
    "</p>"
   ]
  },
  {
   "cell_type": "code",
   "metadata": {
    "ExecuteTime": {
     "end_time": "2025-06-08T12:42:39.056676Z",
     "start_time": "2025-06-08T12:42:36.151895Z"
    }
   },
   "source": [
    "from langchain_community.document_loaders import WebBaseLoader\n",
    "\n",
    "# TODO: Load the https://linuxbook.ir/all.html page\n",
    "\n",
    "loader = WebBaseLoader(\"https://linuxbook.ir/all.html\")\n",
    "web_docs = loader.load()"
   ],
   "outputs": [
    {
     "name": "stderr",
     "output_type": "stream",
     "text": [
      "USER_AGENT environment variable not set, consider setting it to identify your requests.\n"
     ]
    }
   ],
   "execution_count": 5
  },
  {
   "cell_type": "code",
   "metadata": {
    "ExecuteTime": {
     "end_time": "2025-06-08T12:42:39.064131Z",
     "start_time": "2025-06-08T12:42:39.062391Z"
    }
   },
   "source": [
    "# Look at the first 512 characters of the page content\n",
    "print(web_docs[0].page_content[:512])"
   ],
   "outputs": [
    {
     "name": "stdout",
     "output_type": "stream",
     "text": [
      "\n",
      "\n",
      "\n",
      "\n",
      "\n",
      "\n",
      "لینوکس و زندگی | لینوکس و زندگی\n",
      "\n",
      "\n",
      "\n",
      "\n",
      "\n",
      "\n",
      "\n",
      "\n",
      "\n",
      "\n",
      "Toggle navigation\n",
      "\n",
      "\n",
      "\n",
      "\n",
      "لینوکس و زندگی\n",
      "\n",
      "\n",
      "\n",
      "روی جلد\n",
      "درباره\n",
      "دانلود\n",
      "حمایت\n",
      "\n",
      "\n",
      "\n",
      "\n",
      "\n",
      "\n",
      "\n",
      "\n",
      "\n",
      "\n",
      "\n",
      "\n",
      "\n",
      "لینوکس و زندگی\n",
      "\n",
      "\n",
      "فهرست \n",
      "لینوکس و زندگی. نوشته جادی www.jadi.netبرای دسترسی به آخرین نسخه کتاب در فرمت‌های مختلف و همچنین حمایت مالی از پروژه کتاب‌هایی برای گیک‌ها، به سایت www.jadi.ir و بخش حمایت مراجعه کنید.درباره این کتاب \n",
      "این کتاب سعی می کنه به خواننده ایده‌هایی درمورد زندگی و لینوکس بده. چرا زندگی؟ چون لینوکس یک فلسفه است و براومده از یک جامعه و کسی که می خواد توش موفق باشه با\n"
     ]
    }
   ],
   "execution_count": 6
  },
  {
   "cell_type": "markdown",
   "metadata": {},
   "source": [
    "<h3 dir=rtl align=right style=\"line-height:200%;font-family:vazir;color:#0099cc\">\n",
    "<font face=\"vazir\" color=\"#0099cc\">\n",
    "صفحه‌ی ویکی‌پدیا\n",
    "</font>\n",
    "</h3>\n",
    "\n",
    "<p dir=rtl style=\"direction: rtl; text-align: justify; line-height:200%; font-family:vazir; font-size:medium\">\n",
    "<font face=\"vazir\">\n",
    "علاوه‌بر محتواهایی که تاکنون در دسترس ما قرار گرفت قصد داریم از محتوای موجود در صفحات ویکی‌پدیای مرتبط با آن‌ها نیز استفاده کنیم. در لیست زیر عنوان چند صفحه‌ی ویکی‌پدیا قرار داده شده که نیاز است با کمک توابعی همچون <code>WikipediaLoader</code> آن‌ها را بارگیری کنید.\n",
    "\n",
    "<ul dir=rtl>\n",
    "<li>ریچارد استالمن</li>\n",
    "<li>لینوس توروالدز</li>\n",
    "<li>لینوکس</li>\n",
    "<li>پروژه گنو</li>\n",
    "<li>نرم‌افزار آزاد</li>\n",
    "<li>بنیاد نرم‌افزار آزاد</li>\n",
    "</ul>\n",
    "</font>\n",
    "</p>\n",
    "\n",
    "<p dir=rtl style=\"direction: rtl; text-align: justify; line-height:200%; font-family:vazir; font-size:medium\">\n",
    "<font face=\"vazir\">\n",
    "<span style=\"color:red\"><b>توجه:</b></span>\n",
    "اگر چندین درخواست پشت همدیگر به <i>API</i> ویکی‌پدیا ارسال کنید ممکن است درخواست‌های شما مسدود شود و نیاز است بین درخواست‌های خود اندکی صبر کنید. برای این کار می‌توانید از <code>time.sleep</code> استفاده کرده و بین درخواست‌های خود چند ثانیه وقفه‌ی تصادفی ایجاد کنید. همچنین می‌توانید این کار را در یک حلقه انجام داده و مشخص کنید تا وقتی‌که صفحه‌ی مورد نظر بارگیری نشده چند ثانیه صبر کند و مجدد درخواست دهد.\n",
    "</font>\n",
    "</p>"
   ]
  },
  {
   "cell_type": "code",
   "metadata": {
    "ExecuteTime": {
     "end_time": "2025-06-08T12:43:28.563682Z",
     "start_time": "2025-06-08T12:42:39.077507Z"
    }
   },
   "source": [
    "from langchain_community.document_loaders import WikipediaLoader\n",
    "import time, random\n",
    "\n",
    "wiki_titles = [\n",
    "    'ریچارد استالمن',\n",
    "    'لینوس توروالدز',\n",
    "    'لینوکس',\n",
    "    'پروژه گنو',\n",
    "    'نرم‌افزار آزاد',\n",
    "    'بنیاد نرم‌افزار آزاد'\n",
    "]\n",
    "\n",
    "wiki_docs = []\n",
    "\n",
    "for title in wiki_titles:\n",
    "    try:\n",
    "        print(f\"Loading: {title}\")\n",
    "        loader = WikipediaLoader(query=title, lang=\"fa\", load_max_docs=1)\n",
    "        docs = loader.load()\n",
    "        wiki_docs.extend(docs)\n",
    "        time.sleep(random.uniform(2, 5))\n",
    "    except Exception as e:\n",
    "        print(f\"Error loading '{title}':\", e)\n",
    "\n",
    "print(\"Total loaded documents:\", len(wiki_docs))\n"
   ],
   "outputs": [
    {
     "name": "stdout",
     "output_type": "stream",
     "text": [
      "Loading: ریچارد استالمن\n",
      "Loading: لینوس توروالدز\n",
      "Loading: لینوکس\n",
      "Loading: پروژه گنو\n",
      "Loading: نرم‌افزار آزاد\n",
      "Loading: بنیاد نرم‌افزار آزاد\n",
      "Total loaded documents: 6\n"
     ]
    }
   ],
   "execution_count": 7
  },
  {
   "cell_type": "code",
   "metadata": {
    "ExecuteTime": {
     "end_time": "2025-06-08T12:43:28.578762Z",
     "start_time": "2025-06-08T12:43:28.575934Z"
    }
   },
   "source": [
    "print(\"Number of wikipedia pages (loaded Document objects):\", len(wiki_docs))"
   ],
   "outputs": [
    {
     "name": "stdout",
     "output_type": "stream",
     "text": [
      "Number of wikipedia pages (loaded Document objects): 6\n"
     ]
    }
   ],
   "execution_count": 8
  },
  {
   "cell_type": "markdown",
   "metadata": {},
   "source": [
    "<h3 dir=rtl align=right style=\"line-height:200%;font-family:vazir;color:#0099cc\">\n",
    "<font face=\"vazir\" color=\"#0099cc\">\n",
    "فایل <code>HTML</code>\n",
    "</font>\n",
    "</h3>\n",
    "\n",
    "<p dir=rtl style=\"direction: rtl; text-align: justify; line-height:200%; font-family:vazir; font-size:medium\">\n",
    "<font face=\"vazir\">\n",
    "حال بیایید از وب‌سایت خود آقای استالمن هم کمک بگیریم و محتوای آن را در اختیار پروژه‌ی خود قرار دهیم. برای این کار لینک‌های داخلی وب‌سایت <a href=\"https://stallman.org\" target=\"_blank\"><code>https://stallman.org</code></a> را به‌کمک <i>Web Scraping</i> استخراج کرده‌ایم و فایل‌های <code>HTML</code> این صفحات را در پوشه‌ای به همین نام در مسیر داده‌های پروژه (<code>data</code>) ذخیره کرده‌ایم. کد مربوط به بخش استخراج این صفحات صرفاً جهت مطالعه‌ی بیشتر در اختیار شما قرار گرفته و در این مرحله تنها نیاز است که شما فایل‌های <code>HTML</code> را از پوشه‌ی مذکور بخوانید. برای این کار روش‌های متفاوتی وجود دارد اما یک راه استفاده از <code>DirectoryLoader</code> (<a href=\"https://python.langchain.com/v0.2/docs/how_to/document_loader_directory/\" target=\"_blank\">مطالعه‌ی مستندات</a>) و <code>BSHTMLLoader</code> (<a href=\"https://python.langchain.com/v0.2/docs/integrations/document_loaders/bshtml/#loader-features\"  target=\"_blank\">مطالعه‌ی مستندات</a>) به‌عنوان کلاس بارگیری‌کننده‌ی آن (آرگومان <code>loader_cls</code>) است.\n",
    "</font>\n",
    "</p>\n",
    "\n",
    "<details>\n",
    "<summary dir=rtl style=\"direction: rtl; text-align: justify; line-height:200%; font-family:vazir; font-size:medium\">مشاهده‌ی کد استخراج داده‌ها</summary>\n",
    "<br>\n",
    "\n",
    "```python\n",
    "\n",
    "# The following code is used to download the HTML content of the Stallman website\n",
    "\n",
    "import requests\n",
    "from bs4 import BeautifulSoup\n",
    "from urllib.parse import urljoin, urlparse\n",
    "import os\n",
    "\n",
    "def save_html(url, directory):\n",
    "    response = requests.get(url)\n",
    "    # Create a valid filename from the URL\n",
    "    filename = urlparse(url).path.strip('/').replace('/', '_') or 'index'\n",
    "    filepath = os.path.join(directory, f\"{filename}\")\n",
    "    \n",
    "    # Save the HTML content to a file\n",
    "    with open(filepath, 'w', encoding='utf-8') as file:\n",
    "        file.write(response.text)\n",
    "    print(f\"Saved: {filepath}\")\n",
    "\n",
    "def is_internal_link(href):\n",
    "    # Parse the href to get its components\n",
    "    parsed_href = urlparse(href)\n",
    "    \n",
    "    # Check if the link is internal\n",
    "    return (\n",
    "        (not href.startswith('#')) and # Check it is not an identifier\n",
    "        (not href.startswith('tel:')) and # Check it is not a telephone number\n",
    "        (href.endswith('.html')) and # Check it is not xml\n",
    "        (parsed_href.netloc == \"\" or  # Empty netloc indicates a relative link\n",
    "        \"stallman.org\" in parsed_href.netloc)  # Netloc contains stallman.org\n",
    "    )\n",
    "\n",
    "def extract_links(url):\n",
    "    response = requests.get(url)\n",
    "    soup = BeautifulSoup(response.text, 'html.parser')\n",
    "    links = set()\n",
    "    for a_tag in soup.find_all('a', href=True):\n",
    "        href = a_tag['href']\n",
    "        if is_internal_link(href):\n",
    "            full_url = urljoin(url, href)  # Create a full URL\n",
    "            links.add(full_url)\n",
    "    return links\n",
    "\n",
    "url = \"https://stallman.org\"\n",
    "links = extract_links(url)\n",
    "directory = \"html\"\n",
    "os.makedirs(directory, exist_ok=True)\n",
    "\n",
    "# Save each link's HTML content\n",
    "for link in links:\n",
    "    save_html(link, directory)\n",
    "\n",
    "```\n",
    "\n",
    "</details>"
   ]
  },
  {
   "cell_type": "code",
   "metadata": {
    "ExecuteTime": {
     "end_time": "2025-06-08T12:43:29.448348Z",
     "start_time": "2025-06-08T12:43:28.598826Z"
    }
   },
   "source": [
    "from langchain_community.document_loaders import DirectoryLoader\n",
    "from langchain_community.document_loaders import BSHTMLLoader\n",
    "\n",
    "# TODO: Load the HTML files in the html directory\n",
    "\n",
    "html_path = \"data/html\"\n",
    "\n",
    "loader = DirectoryLoader(\n",
    "    path=html_path,\n",
    "    glob=\"**/*.html\",\n",
    "    loader_cls=BSHTMLLoader,\n",
    "    loader_kwargs={\"bs_kwargs\": {\"features\": \"html.parser\"}}\n",
    ")\n",
    "\n",
    "html_docs = loader.load()\n",
    "\n",
    "print(\"Number of HTML documents:\", len(html_docs))\n",
    "print(html_docs[0].page_content[:1000])"
   ],
   "outputs": [
    {
     "name": "stdout",
     "output_type": "stream",
     "text": [
      "Number of HTML documents: 179\n",
      "\n",
      "\n",
      "\n",
      "My Doctor's Office Asked me to Lie\n",
      "\n",
      "\n",
      "\n",
      "\n",
      "\n",
      "Richard Stallman's personal site.\n",
      "https://stallman.org\n",
      "\n",
      "For current political commentary, see\n",
      "the daily\n",
      "political notes.\n",
      "\n",
      "\n",
      "RMS's Bio |\n",
      "The GNU Project\n",
      "\n",
      "\n",
      "My Doctor's Office Asked me to Lie\n",
      "-- Richard Stallman\n",
      "August 2011\n",
      "\n",
      "I saw a doctor this week.  Before the appointment, I was asked to sign\n",
      "a privacy policy consent form which started out this way\n",
      "\n",
      "\n",
      "The Practice's privacy Notice has been provided to me prior to my\n",
      "    signing this consent...\n",
      "\n",
      "\n",
      "   The Practice reserves the right to change its privacy practices \n",
      "    that are described in its Privacy Notice, in accordance with\n",
      "    applicable law.\n",
      "\n",
      "\n",
      "\n",
      "Since I was unwilling to sign a false statement, I asked to see the\n",
      "privacy notice.  The receptionist offered me another copy of the\n",
      "consent form.  I said I already had that, but that it referred to a\n",
      "\"privacy notice\" and that's what I didn't have a copy of.  The\n",
      "receptionist said, \"The rest of this page gives a summary of the\n",
      "privacy notice.\"  It was \n"
     ]
    }
   ],
   "execution_count": 9
  },
  {
   "cell_type": "code",
   "metadata": {
    "ExecuteTime": {
     "end_time": "2025-06-08T12:43:29.459764Z",
     "start_time": "2025-06-08T12:43:29.458070Z"
    }
   },
   "source": [
    "print(\"Number of pages (loaded Document objects):\", len(html_docs))"
   ],
   "outputs": [
    {
     "name": "stdout",
     "output_type": "stream",
     "text": [
      "Number of pages (loaded Document objects): 179\n"
     ]
    }
   ],
   "execution_count": 10
  },
  {
   "cell_type": "markdown",
   "metadata": {},
   "source": [
    "<h2 dir=rtl align=right style=\"line-height:200%;font-family:vazir;color:#0099cc\">\n",
    "<font face=\"vazir\" color=\"#0099cc\">\n",
    "جداسازی اسناد\n",
    "</font>\n",
    "</h2>\n",
    "\n",
    "<p dir=rtl style=\"direction: rtl; text-align: justify; line-height:200%; font-family:vazir; font-size:medium\">\n",
    "<font face=\"vazir\">\n",
    "احتمالاً طبق بررسی اسناد متوجه شده‌اید که برخی از آن‌ها ممکن است طولانی باشند و بهتر است که آن‌ها را به قطعات کوچک‌تری بشکنیم. پس در این مرحله با استفاده از روش‌های جداسازی اسناد به شکستن آن‌ها بپردازید. اگر می‌خواهید این کار را بر روی تمام اسناد خود انجام دهید می‌توانید ابتدا تمام آن‌ها در یک لیست واحد ریخته و سپس تابع مورد نظر را اعمال کنید.\n",
    "</font>\n",
    "</p>"
   ]
  },
  {
   "cell_type": "code",
   "metadata": {
    "ExecuteTime": {
     "end_time": "2025-06-08T12:43:29.520591Z",
     "start_time": "2025-06-08T12:43:29.472889Z"
    }
   },
   "source": [
    "from langchain.text_splitter import RecursiveCharacterTextSplitter\n",
    "\n",
    "text_splitter = RecursiveCharacterTextSplitter(\n",
    "    chunk_size=500,\n",
    "    chunk_overlap=50,\n",
    "    separators=[\"\\n\\n\", \"\\n\", \".\", \" \"]\n",
    ")\n",
    "\n",
    "all_docs = pdf_docs + web_docs + wiki_docs + html_docs\n",
    "splitted_docs = text_splitter.split_documents(all_docs)\n",
    "\n",
    "\n",
    "\n",
    "print('The number of splitted documents:', len(splitted_docs))\n"
   ],
   "outputs": [
    {
     "name": "stdout",
     "output_type": "stream",
     "text": [
      "The number of splitted documents: 6541\n"
     ]
    }
   ],
   "execution_count": 11
  },
  {
   "cell_type": "markdown",
   "metadata": {},
   "source": [
    "<h2 dir=rtl align=right style=\"line-height:200%;font-family:vazir;color:#0099cc\">\n",
    "<font face=\"vazir\" color=\"#0099cc\">\n",
    "تعبیه‌سازی و مخزن برداری\n",
    "</font>\n",
    "</h2>\n",
    "\n",
    "<p dir=rtl style=\"direction: rtl; text-align: justify; line-height:200%; font-family:vazir; font-size:medium\">\n",
    "<font face=\"vazir\">\n",
    "برای آن‌که بتوانیم اسناد مرتبط با پرسش کاربر را پیدا کردیم یا به‌اصطلاح جست‌وجوی معنایی انجام دهیم نیاز است که آن‌ها را به‌شکل بردارهای عددی تعبیه کرده و در یک مخزن برداری ذخیره کنیم. در این مرحله می‌توانید از هر مدل تعبیه‌سازی که می‌خواهید استفاده کنید. با این حال به چندزبانه بودن اسناد توجه داشته باشید و ترجیحاً از یک مدل چندزبانه استفاده کنید یا این‌که تکنیکی برای رفع این چالش بیابید.\n",
    "</font>\n",
    "</p>\n",
    "\n",
    "<p dir=rtl style=\"direction: rtl; text-align: justify; line-height:200%; font-family:vazir; font-size:medium\">\n",
    "<font face=\"vazir\">\n",
    "<span style=\"color:orange\"><b>نکته‌ی ۱:</b></span>\n",
    "اگر قصد دارید از مدل‌های تعبیه‌ساز <i>Cohere</i> استفاده کنید به محدودیت تعداد درخواست ماهانه توجه داشته باشید. ممکن است که اگر چند مرحله این بخش را تکرار کنید حد مجاز تعداد درخواست را رد کنید. یک راه‌حل این است که در صورت وقوع محدودیت از یک حساب جدید استفاده کنید یا این‌که در زمان پیاده‌سازی اولیه و آزمایش کدهای خود از یک مدل دیگر همچون مدل‌های موجود در هاگینگ‌فیس بهره ببرید و وقتی‌که مطمئن شدید همه‌چیز به‌درستی کار می‌کند به‌سراغ آزمایش این مدل بروید.\n",
    "</font>\n",
    "</p>\n",
    "\n",
    "<p dir=rtl style=\"direction: rtl; text-align: justify; line-height:200%; font-family:vazir; font-size:medium\">\n",
    "<font face=\"vazir\">\n",
    "<span style=\"color:orange\"><b>نکته‌ی ۲:</b></span>\n",
    "اگر تصمیم گرفتید که از مدل‌های هاگینگ‌فیس بهره ببرید اکیداً پیشنهاد می‌کنیم که کدهای خود را بر بستر گوگل کولب اجرا کنید تا با مشکلات نصب کتابخانه‌ها و همچنین محدودیت‌های سخت‌افزاری مواجه نشوید. در این‌صورت فراموش نکنید که قابلیت <code>GPU</code> کولب را فعال کرده باشید.\n",
    "</font>\n",
    "</p>\n",
    "\n",
    "<p dir=rtl style=\"direction: rtl; text-align: justify; line-height:200%; font-family:vazir; font-size:medium\">\n",
    "<font face=\"vazir\">\n",
    "<span style=\"color:red\"><b>توجه:</b></span>\n",
    "در هنگام ساخت مخزن برداری فراموش نکنید که آرگومان <code>persist_directory</code> را مقداردهی کرده باشید تا مطمئن شوید که اسناد و تعبیه‌ها ذخیره می‌شوند. در این‌صورت دیگر در استفاده‌های بعدی از کدهای‌تان نیاز به تعبیه‌سازی مجدد اسناد نخواهید داشت.\n",
    "</font>\n",
    "</p>"
   ]
  },
  {
   "cell_type": "code",
   "metadata": {
    "ExecuteTime": {
     "end_time": "2025-06-08T12:43:50.214868Z",
     "start_time": "2025-06-08T12:43:50.183327Z"
    }
   },
   "source": [
    "# TODO: Define an embedding model and set API key if necessary\n",
    "from dotenv import load_dotenv\n",
    "\n",
    "load_dotenv()\n",
    "\n",
    "api_key = os.getenv(\"COHERE_API_KEY\")\n",
    "\n",
    "print(api_key)\n",
    "from langchain.vectorstores import FAISS\n",
    "from langchain.embeddings import CohereEmbeddings\n",
    "\n",
    "embedding_model = CohereEmbeddings(\n",
    "    cohere_api_key=api_key,\n",
    "    model=\"embed-multilingual-light-v3.0\",\n",
    "    user_agent=\"langchain\",\n",
    "    max_retries=5,\n",
    "    request_timeout=20\n",
    ")"
   ],
   "outputs": [
    {
     "name": "stdout",
     "output_type": "stream",
     "text": [
      "gXOTGQWlFOHQI39mwNHG18MvrsBcxlFWtjhgYyTa\n"
     ]
    }
   ],
   "execution_count": 15
  },
  {
   "metadata": {
    "ExecuteTime": {
     "end_time": "2025-06-08T12:55:03.019551Z",
     "start_time": "2025-06-08T12:43:55.407485Z"
    }
   },
   "cell_type": "code",
   "source": [
    "batch_size = 50\n",
    "batches = [splitted_docs[i:i+batch_size] for i in range(0, len(splitted_docs), batch_size)]\n",
    "\n",
    "all_embeddings = []\n",
    "\n",
    "for batch in batches:\n",
    "    embeddings = embedding_model.embed_documents([doc.page_content for doc in batch])\n",
    "    all_embeddings.extend(embeddings)\n",
    "    time.sleep(4)"
   ],
   "outputs": [],
   "execution_count": 16
  },
  {
   "cell_type": "code",
   "metadata": {
    "ExecuteTime": {
     "end_time": "2025-06-08T13:14:09.491290Z",
     "start_time": "2025-06-08T13:14:09.402893Z"
    }
   },
   "source": [
    "# TODO: Make a vectorstore and add the documents to it\n",
    "\n",
    "persist_directory = \"./vectorstore\"\n",
    "texts = [doc.page_content for doc in splitted_docs]\n",
    "metadatas = [doc.metadata for doc in splitted_docs]\n",
    "\n",
    "text_embeddings = list(zip(texts, all_embeddings))\n",
    "\n",
    "vectorstore = FAISS.from_embeddings(\n",
    "    text_embeddings=text_embeddings,\n",
    "    embedding=embedding_model,\n",
    "    metadatas=metadatas\n",
    ")\n",
    "\n",
    "vectorstore.save_local(persist_directory)\n",
    "\n",
    "print(\"Vectorstore created and saved to:\", persist_directory)"
   ],
   "outputs": [
    {
     "name": "stdout",
     "output_type": "stream",
     "text": [
      "Vectorstore created and saved to: ./vectorstore\n"
     ]
    }
   ],
   "execution_count": 34
  },
  {
   "cell_type": "markdown",
   "metadata": {},
   "source": [
    "<h2 dir=rtl align=right style=\"line-height:200%;font-family:vazir;color:#0099cc\">\n",
    "<font face=\"vazir\" color=\"#0099cc\">\n",
    "مدل پرسش‌وپاسخ\n",
    "</font>\n",
    "</h2>\n",
    "\n",
    "<p dir=rtl style=\"direction: rtl; text-align: justify; line-height:200%; font-family:vazir; font-size:medium\">\n",
    "<font face=\"vazir\">\n",
    "اکنون می‌توانید به هر روشی که علاقه دارید یک زنجیره‌ی <code>LangChain</code> طراحی کنید که بتواند به پرسش کاربر در قالب خواسته‌شده پاسخ دهد. قاعدتاً این زنجیره باید شامل بازیابی اسناد به‌کمک مخزن برداری نیز باشد. همچنین می‌توانید یک دستور سفارشی‌شده و مناسب با خواسته‌های مسئله بنویسید و سعی کنید با بهبود آن کیفیت پاسخ‌های مدل را نیز افزایش دهید. با این حال، مهم‌ترین نکته در این بخش فرمت خروجی مدل است که در ادامه به شرح آن می‌پردازیم. برای رعایت این فرمت احتمالاً نیاز به استفاده از تجزیه‌کننده (Parser) در زنجیره‌ی خود خواهید داشت.\n",
    "</font>\n",
    "</p>\n",
    "\n",
    "<h3 dir=rtl align=right style=\"line-height:200%;font-family:vazir;color:#0099cc\">\n",
    "<font face=\"vazir\" color=\"#0099cc\">\n",
    "سوالات و فرمت خروجی\n",
    "</font>\n",
    "</h3>\n",
    "\n",
    "<p dir=rtl style=\"direction: rtl; text-align: justify; line-height:200%; font-family:vazir; font-size:medium\">\n",
    "<font face=\"vazir\">\n",
    "با این‌که مدل شما قادر است به‌صورت کامل‌تر و نزدیک‌تر به زبان انسان به پرسش‌های کاربر پاسخ دهد اما از آن‌جا که  بتوانیم عملکرد مدل شما را به‌صورت خودکار توسط سیستم داوری ارزیابی کنیم یک سری سوال مشخص در اختیارتان قرار داده‌ایم که پاسخ‌هایی تک یا چند کلمه‌ای دارند. سیستم داوری وجود عبارت پاسخ درست (یا معادل‌های آن) را در خروجی‌های شما جست‌وجو می‌کند و اگر آن را پیدا کند به‌عنوان پاسخی درست در نظر می‌گیرد. با این حال توجه داشته باشید اگر خروجی مدل شما <u>بیش از ۴ کلمه</u> باشد به‌عنوان یک متن طولانی در نظر گرفته می‌شود و <span style=\"color:red\">نادرست</span> تشخیص داده می‌شود زیرا تمام پاسخ‌ها کوتاه و مشخص هستند.\n",
    "</font>\n",
    "</p>\n",
    "\n",
    "<p dir=rtl style=\"direction: rtl; text-align: justify; line-height:200%; font-family:vazir; font-size:medium\">\n",
    "<font face=\"vazir\">\n",
    "خروجی نهایی شما به‌ازای هر سوال باید یک دیکشنری شامل دو کلید <code>question_number</code> و <code>answer</code> باشد که به‌ترتیب از جنس <code>int</code> و <code>str</code> هستند. در این دیکشنری شماره‌ی سوال به‌عنوان مقدار کلید <code>question_number</code> و پاسخ به‌عنوان مقدار کلید <code>answer</code> قرار می‌گیرد. به‌عنوان مثال اگر پاسخ پرسش شماره‌ی ۱۲، کوئرا باشد دیکشنری مربوط به آن به‌صورت زیر خواهد بود:\n",
    "\n",
    "```python\n",
    "{\n",
    "    \"question_number\": 12,\n",
    "    \"answer\": \"کوئرا\"\n",
    "}\n",
    "```\n",
    "</font>\n",
    "</p>\n",
    "\n",
    "<p dir=rtl style=\"direction: rtl; text-align: justify; line-height:200%; font-family:vazir; font-size:medium\">\n",
    "<font face=\"vazir\">\n",
    "در انتهای نت‌بوک تمام این دیکشنری‌ها (از متغیر <code>answer1</code> تا <code>answer16</code>) را داخل یک لیست واحد ریخته و به‌صورت یک فایل <code>JSON</code> ذخیره خواهیم کرد تا بتوانید آن را در سامانه‌ی داوری آپلود کرده و نتایج کار خود را مشاهده کنید.\n",
    "</font>\n",
    "</p>\n"
   ]
  },
  {
   "metadata": {
    "ExecuteTime": {
     "end_time": "2025-06-08T13:17:30.795684Z",
     "start_time": "2025-06-08T13:17:30.793602Z"
    }
   },
   "cell_type": "code",
   "source": [
    "from langchain_core.prompts import ChatPromptTemplate, HumanMessagePromptTemplate\n",
    "\n",
    "\n",
    "system_prompt = (\n",
    "    \"از محتوای بافتاری زیر برای پاسخ به سوال استفاده کن. \"\n",
    "    \"پاسخ خود را دقیق و کوتاه (حداکثر ۴ کلمه) بده. \"\n",
    ")\n",
    "\n",
    "prompt = ChatPromptTemplate.from_messages(\n",
    "    [\n",
    "        (\"system\", system_prompt),\n",
    "        (\"human\", \"سوال: {input}\\nمتن: {context}\"),\n",
    "    ]\n",
    ")"
   ],
   "outputs": [],
   "execution_count": 45
  },
  {
   "metadata": {
    "ExecuteTime": {
     "end_time": "2025-06-08T13:17:32.562236Z",
     "start_time": "2025-06-08T13:17:32.532819Z"
    }
   },
   "cell_type": "code",
   "source": [
    "from langchain_cohere import ChatCohere\n",
    "from langchain.chains import create_retrieval_chain\n",
    "from langchain.chains.combine_documents import create_stuff_documents_chain\n",
    "\n",
    "llm = ChatCohere(cohere_api_key=api_key, temperature=0, model=\"command-r-plus\")\n",
    "\n",
    "question_answer_chain = create_stuff_documents_chain(llm, prompt)\n",
    "\n",
    "retriever = vectorstore.as_retriever(search_type=\"mmr\", search_kwargs={\"fetch_k\": 7, \"k\": 5})\n",
    "\n",
    "chain = create_retrieval_chain(retriever, question_answer_chain)\n"
   ],
   "outputs": [],
   "execution_count": 46
  },
  {
   "cell_type": "code",
   "metadata": {
    "ExecuteTime": {
     "end_time": "2025-06-08T13:34:34.480186Z",
     "start_time": "2025-06-08T13:34:32.996328Z"
    }
   },
   "source": [
    "query = \"توروالدز برای کار در چه موسسه‌ای دانشگاه هلسینکی را ترک گفت؟\"\n",
    "response = chain.invoke({\n",
    "    \"input\": query,\n",
    "})\n",
    "\n",
    "answer1 = {\n",
    "    \"question_number\": 1,\n",
    "    \"answer\": response[\"answer\"]\n",
    "}\n",
    "\n",
    "print(answer1)"
   ],
   "outputs": [
    {
     "name": "stdout",
     "output_type": "stream",
     "text": [
      "{'question_number': 1, 'answer': 'این\\u200cتل'}\n"
     ]
    }
   ],
   "execution_count": 59
  },
  {
   "cell_type": "code",
   "metadata": {
    "ExecuteTime": {
     "end_time": "2025-06-08T13:31:40.151880Z",
     "start_time": "2025-06-08T13:31:35.043879Z"
    }
   },
   "source": [
    "query = \"پرسش ۲: آندرو تاننباوم استاد کدام دانشگاه است؟\"\n",
    "\n",
    "response = chain.invoke({\n",
    "    \"input\": query,\n",
    "})\n",
    "\n",
    "answer2 = {\n",
    "    \"question_number\": 2,\n",
    "    \"answer\": response[\"answer\"]\n",
    "}\n",
    "\n",
    "print(answer2)"
   ],
   "outputs": [
    {
     "name": "stdout",
     "output_type": "stream",
     "text": [
      "{'question_number': 2, 'answer': 'دانشگاه آمستردام'}\n"
     ]
    }
   ],
   "execution_count": 57
  },
  {
   "cell_type": "code",
   "metadata": {
    "ExecuteTime": {
     "end_time": "2025-06-08T13:35:06.624695Z",
     "start_time": "2025-06-08T13:35:05.123974Z"
    }
   },
   "source": [
    "query = \"پرسش ۳: در سال ۲۰۰۶ چند درصد از هسته لینوکس توسط توروالدز نوشته شد (به عدد)؟\"\n",
    "response = chain.invoke({\n",
    "    \"input\": query,\n",
    "})\n",
    "\n",
    "answer3 = {\n",
    "    \"question_number\": 3,\n",
    "    \"answer\": response[\"answer\"]\n",
    "}\n",
    "\n",
    "print(answer3)"
   ],
   "outputs": [
    {
     "name": "stdout",
     "output_type": "stream",
     "text": [
      "{'question_number': 3, 'answer': 'دو درصد'}\n"
     ]
    }
   ],
   "execution_count": 60
  },
  {
   "cell_type": "code",
   "metadata": {
    "ExecuteTime": {
     "end_time": "2025-06-08T13:35:28.956552Z",
     "start_time": "2025-06-08T13:35:27.422534Z"
    }
   },
   "source": [
    "query = \"پرسش ۴: چه کسی بنیاد نرم‌افزارهای آزاد را بنا نهاد؟\"\n",
    "response = chain.invoke({\n",
    "    \"input\": query,\n",
    "})\n",
    "\n",
    "answer4 = {\n",
    "    \"question_number\": 4,\n",
    "    \"answer\": response[\"answer\"]\n",
    "}\n",
    "\n",
    "print(answer4)"
   ],
   "outputs": [
    {
     "name": "stdout",
     "output_type": "stream",
     "text": [
      "{'question_number': 4, 'answer': 'ریچارد استالمن'}\n"
     ]
    }
   ],
   "execution_count": 61
  },
  {
   "cell_type": "code",
   "metadata": {
    "ExecuteTime": {
     "end_time": "2025-06-08T13:35:57.626906Z",
     "start_time": "2025-06-08T13:35:55.278014Z"
    }
   },
   "source": [
    "query = \"پرسش ۵: ریچارد استالمن در ۲۱ سالگی در کدام شرکت کار می‌کرد؟\"\n",
    "\n",
    "response = chain.invoke({\n",
    "    \"input\": query,\n",
    "})\n",
    "\n",
    "answer5 = {\n",
    "    \"question_number\": 5,\n",
    "    \"answer\": response[\"answer\"]\n",
    "}\n",
    "\n",
    "print(answer5)"
   ],
   "outputs": [
    {
     "name": "stdout",
     "output_type": "stream",
     "text": [
      "{'question_number': 5, 'answer': 'وسچستر کانتی'}\n"
     ]
    }
   ],
   "execution_count": 62
  },
  {
   "cell_type": "code",
   "metadata": {
    "ExecuteTime": {
     "end_time": "2025-06-08T13:38:55.089276Z",
     "start_time": "2025-06-08T13:38:53.381985Z"
    }
   },
   "source": [
    "query = \"پرسش ۶: یکی از مشهورترین پروژه‌هایی که در ابتدا پروژه‌ی آزاد و آکادمیک بود اما بعد وارد محیط بسته‌ی تجاری شد چه بود؟\"\n",
    "response = chain.invoke({\n",
    "    \"input\": query,\n",
    "})\n",
    "\n",
    "answer6 = {\n",
    "    \"question_number\": 6,\n",
    "    \"answer\": response[\"answer\"]\n",
    "}\n",
    "\n",
    "print(answer6)"
   ],
   "outputs": [
    {
     "name": "stdout",
     "output_type": "stream",
     "text": [
      "{'question_number': 6, 'answer': 'پروژه لیسپ'}\n"
     ]
    }
   ],
   "execution_count": 74
  },
  {
   "cell_type": "code",
   "metadata": {
    "ExecuteTime": {
     "end_time": "2025-06-08T13:36:22.879936Z",
     "start_time": "2025-06-08T13:36:21.429274Z"
    }
   },
   "source": [
    "query = \"پرسش ۷: لینکدین در سانسور کردن حساب‌ها به درخواست چه کشوری مشهور است؟\"\n",
    "response = chain.invoke({\n",
    "    \"input\": query,\n",
    "})\n",
    "\n",
    "answer7 = {\n",
    "    \"question_number\": 7,\n",
    "    \"answer\": response[\"answer\"]\n",
    "}\n",
    "\n",
    "print(answer7)"
   ],
   "outputs": [
    {
     "name": "stdout",
     "output_type": "stream",
     "text": [
      "{'question_number': 7, 'answer': 'ایالات متحده'}\n"
     ]
    }
   ],
   "execution_count": 63
  },
  {
   "cell_type": "code",
   "metadata": {
    "ExecuteTime": {
     "end_time": "2025-06-08T13:36:36.111829Z",
     "start_time": "2025-06-08T13:36:34.647866Z"
    }
   },
   "source": [
    "query = \"پرسش ۸: ریچارد استالمن پیشنهاد می‌کند به‌جای گوگل مپ از چه سرویسی استفاده کنیم؟\"\n",
    "response = chain.invoke({\n",
    "    \"input\": query,\n",
    "})\n",
    "\n",
    "answer8 = {\n",
    "    \"question_number\": 8,\n",
    "    \"answer\": response[\"answer\"]\n",
    "}\n",
    "\n",
    "print(answer8)"
   ],
   "outputs": [
    {
     "name": "stdout",
     "output_type": "stream",
     "text": [
      "{'question_number': 8, 'answer': 'اوپن استریت مپ'}\n"
     ]
    }
   ],
   "execution_count": 64
  },
  {
   "cell_type": "code",
   "metadata": {
    "ExecuteTime": {
     "end_time": "2025-06-08T13:36:51.995741Z",
     "start_time": "2025-06-08T13:36:50.082397Z"
    }
   },
   "source": [
    "query = \"پرسش ۹: آزادی صفرم در نرم‌افزار آزاد چه عنوانی دارد؟\"\n",
    "response = chain.invoke({\n",
    "    \"input\": query,\n",
    "})\n",
    "\n",
    "answer9 = {\n",
    "    \"question_number\": 9,\n",
    "    \"answer\": response[\"answer\"]\n",
    "}\n",
    "\n",
    "print(answer9)"
   ],
   "outputs": [
    {
     "name": "stdout",
     "output_type": "stream",
     "text": [
      "{'question_number': 9, 'answer': 'آزادی اجرا'}\n"
     ]
    }
   ],
   "execution_count": 65
  },
  {
   "cell_type": "code",
   "metadata": {
    "ExecuteTime": {
     "end_time": "2025-06-08T13:37:03.365163Z",
     "start_time": "2025-06-08T13:37:01.908491Z"
    }
   },
   "source": [
    "query = \"پرسش ۱۰: آیا یک نرم‌افزار آزاد لزوماً رایگان است (بله یا خیر)؟\"\n",
    "response = chain.invoke({\n",
    "    \"input\": query,\n",
    "})\n",
    "\n",
    "answer10 = {\n",
    "    \"question_number\": 10,\n",
    "    \"answer\": response[\"answer\"]\n",
    "}\n",
    "\n",
    "print(answer10)"
   ],
   "outputs": [
    {
     "name": "stdout",
     "output_type": "stream",
     "text": [
      "{'question_number': 10, 'answer': 'بله'}\n"
     ]
    }
   ],
   "execution_count": 66
  },
  {
   "cell_type": "code",
   "metadata": {
    "ExecuteTime": {
     "end_time": "2025-06-08T13:37:22.517626Z",
     "start_time": "2025-06-08T13:37:20.307379Z"
    }
   },
   "source": [
    "query = \"پرسش ۱۱: استاندارد ناظر بر فایل‌ها و دایرکتوری‌ها به‌اختصار چه نامیده می‌شود؟\"\n",
    "response = chain.invoke({\n",
    "    \"input\": query,\n",
    "})\n",
    "\n",
    "answer11 = {\n",
    "    \"question_number\": 11,\n",
    "    \"answer\": response[\"answer\"]\n",
    "}\n",
    "\n",
    "print(answer11)"
   ],
   "outputs": [
    {
     "name": "stdout",
     "output_type": "stream",
     "text": [
      "{'question_number': 11, 'answer': 'FHS'}\n"
     ]
    }
   ],
   "execution_count": 67
  },
  {
   "cell_type": "code",
   "metadata": {
    "ExecuteTime": {
     "end_time": "2025-06-08T13:37:33.882486Z",
     "start_time": "2025-06-08T13:37:32.177655Z"
    }
   },
   "source": [
    "query = \"پرسش ۱۲: اولین ریپلای به ایمیل درخواست کار چیست؟\"\n",
    "response = chain.invoke({\n",
    "    \"input\": query,\n",
    "})\n",
    "\n",
    "answer12 = {\n",
    "    \"question_number\": 12,\n",
    "    \"answer\": response[\"answer\"]\n",
    "}\n",
    "\n",
    "print(answer12)"
   ],
   "outputs": [
    {
     "name": "stdout",
     "output_type": "stream",
     "text": [
      "{'question_number': 12, 'answer': 'رزومه'}\n"
     ]
    }
   ],
   "execution_count": 68
  },
  {
   "cell_type": "code",
   "metadata": {
    "ExecuteTime": {
     "end_time": "2025-06-08T13:37:44.940583Z",
     "start_time": "2025-06-08T13:37:43.381987Z"
    }
   },
   "source": [
    "query = \"پرسش ۱۳: اگر امروز که از شنبه ورزش می‌کنم در واقع دچار چه بایاسی شده‌ایم؟\"\n",
    "response = chain.invoke({\n",
    "    \"input\": query,\n",
    "})\n",
    "\n",
    "answer13 = {\n",
    "    \"question_number\": 13,\n",
    "    \"answer\": response[\"answer\"]\n",
    "}\n",
    "\n",
    "print(answer13)"
   ],
   "outputs": [
    {
     "name": "stdout",
     "output_type": "stream",
     "text": [
      "{'question_number': 13, 'answer': 'بایاس پروجکشن'}\n"
     ]
    }
   ],
   "execution_count": 69
  },
  {
   "cell_type": "code",
   "metadata": {
    "ExecuteTime": {
     "end_time": "2025-06-08T13:38:00.094594Z",
     "start_time": "2025-06-08T13:37:58.512265Z"
    }
   },
   "source": [
    "query = \"پرسش ۱۴: دنبال یاد گرفتن کدوم یکی باشیم: برنامه‌نویسی یا دستور زبان یک زبان خاص؟\"\n",
    "response = chain.invoke({\n",
    "    \"input\": query,\n",
    "})\n",
    "\n",
    "answer14 = {\n",
    "    \"question_number\": 14,\n",
    "    \"answer\": response[\"answer\"]\n",
    "}\n",
    "\n",
    "print(answer14)"
   ],
   "outputs": [
    {
     "name": "stdout",
     "output_type": "stream",
     "text": [
      "{'question_number': 14, 'answer': 'برنامه\\u200cنویسی'}\n"
     ]
    }
   ],
   "execution_count": 70
  },
  {
   "cell_type": "code",
   "metadata": {
    "ExecuteTime": {
     "end_time": "2025-06-08T13:38:19.140909Z",
     "start_time": "2025-06-08T13:38:17.479499Z"
    }
   },
   "source": [
    "query = \"پرسش ۱۵: اگه هدف‌مون اینه که بریم گوگل کار کنیم اول از همه چه‌چیزی رو سرچ کنیم؟\"\n",
    "response = chain.invoke({\n",
    "    \"input\": query,\n",
    "})\n",
    "\n",
    "answer15 = {\n",
    "    \"question_number\": 15,\n",
    "    \"answer\": response[\"answer\"]\n",
    "}\n",
    "\n",
    "print(answer15)"
   ],
   "outputs": [
    {
     "name": "stdout",
     "output_type": "stream",
     "text": [
      "{'question_number': 15, 'answer': 'آگهی\\u200cهای شغلی گوگل'}\n"
     ]
    }
   ],
   "execution_count": 71
  },
  {
   "cell_type": "code",
   "metadata": {
    "ExecuteTime": {
     "end_time": "2025-06-08T13:38:29.690686Z",
     "start_time": "2025-06-08T13:38:28.243244Z"
    }
   },
   "source": [
    "query = \"پرسش ۱۶: در بیانیه‌ی هکرها گفته شده که جرم آن‌ها در یک کلمه چیست؟\"\n",
    "response = chain.invoke({\n",
    "    \"input\": query,\n",
    "})\n",
    "\n",
    "answer16 = {\n",
    "    \"question_number\": 16,\n",
    "    \"answer\": response[\"answer\"]\n",
    "}\n",
    "\n",
    "print(answer16)"
   ],
   "outputs": [
    {
     "name": "stdout",
     "output_type": "stream",
     "text": [
      "{'question_number': 16, 'answer': 'کنجکاوی'}\n"
     ]
    }
   ],
   "execution_count": 72
  },
  {
   "cell_type": "markdown",
   "metadata": {},
   "source": [
    "<h2 dir=rtl align=right style=\"line-height:200%;font-family:vazir;color:#0099cc\">\n",
    "<font face=\"vazir\" color=\"#0099cc\">\n",
    "نحوه‌ی امتیازدهی\n",
    "</font>\n",
    "</h2>\n",
    "\n",
    "<p dir=rtl style=\"direction: rtl; text-align: justify; line-height:200%; font-family:vazir; font-size:medium\">\n",
    "<font face=\"vazir\">\n",
    "برای آن‌که بتوانید با <span style=\"color:green\">موفقیت</span> امتیاز این پروژه را کسب کنید نیاز است که مدل شما از بین این ۱۶ پرسش حداقل به <u>۱۲ مورد</u> پاسخ درست داده باشد.\n",
    "</font>\n",
    "</p>"
   ]
  },
  {
   "cell_type": "markdown",
   "metadata": {},
   "source": [
    "<h2 dir=rtl align=right style=\"line-height:200%;font-family:vazir;color:#0099cc\">\n",
    "<font face=\"vazir\" color=\"#0099cc\">\n",
    "<b>سلول جواب‌ساز</b>\n",
    "</font>\n",
    "</h2>\n",
    "\n",
    "<p dir=rtl style=\"direction: rtl; text-align: justify; line-height:200%; font-family:vazir; font-size:medium\">\n",
    "<font face=\"vazir\">\n",
    "در سلول‌های بعدی فایل‌های پاسخ شما را تولید می‌کنیم تا بتوانید در نهایت یک فایل فشرده با نام <code>result.zip</code> تحویل بگیرید که حاوی فایل‌های مورد نیاز جهت داوری خواهد بود. ابتدا نیاز است که پاسخ‌های شما یعنی متغیرهای <code>answer1</code> تا <code>answer16</code> را داخل یک لیست واحد ذخیره کنیم. سپس این لیست را به‌صورت یک فایل <code>JSON</code> ذخیره می‌کنیم. لطفاً کد زیر را <span style=\"color:red\">بدون تغییر</span> اجرا کنید.\n",
    "</font>\n",
    "</p>\n",
    "\n",
    "<p dir=rtl style=\"direction: rtl; text-align: justify; line-height:200%; font-family:vazir; font-size:medium\">\n",
    "<font face=\"vazir\" size=3>\n",
    "    برای ساخته‌شدن فایل <code>result.zip</code> سلول زیر را اجرا کنید. توجه داشته باشید که پیش از اجرای سلول زیر تغییرات اعمال شده در نت‌بوک را ذخیره کرده باشید (<code>ctrl+s</code>) تا در صورت نیاز به پشتیبانی امکان بررسی کد شما وجود داشته باشد. همچنین اگر از گوگل کولب استفاده می‌کنید، در صورت نیاز به پشتیبانی حتماً آخرین نسخه از نت‌بوک را به‌صورت دستی دانلود کرده و داخل فایل ارسالی قرار دهید یا لینک کولب را با ما به‌اشتراک بگذارید.\n",
    "</font>\n",
    "</p>"
   ]
  },
  {
   "cell_type": "code",
   "metadata": {
    "ExecuteTime": {
     "end_time": "2025-06-08T13:38:58.098151Z",
     "start_time": "2025-06-08T13:38:58.089631Z"
    }
   },
   "source": [
    "import zipfile\n",
    "import os\n",
    "import json\n",
    "\n",
    "# Make a list of the answers\n",
    "answers = [globals()[f'answer{i}'] for i in range(1, 17)]\n",
    "\n",
    "# Save the answers to a JSON file\n",
    "with open('answers.json', 'w') as f:\n",
    "    json.dump(answers, f, ensure_ascii=False, indent=4)\n",
    "\n",
    "notebook_path = 'librechat.ipynb'\n",
    "\n",
    "# Check if the notebook exists in the current directory and export it if it doesn't (for Colab)\n",
    "if not os.path.exists(os.path.join(os.getcwd(), notebook_path)):\n",
    "    %notebook -e librechat.ipynb\n",
    "\n",
    "# Compress the files into a zip archive\n",
    "def compress(file_names):\n",
    "    print(\"File Paths:\")\n",
    "    print(file_names)\n",
    "    compression = zipfile.ZIP_DEFLATED\n",
    "    with zipfile.ZipFile(\"result.zip\", mode=\"w\") as zf:\n",
    "        for file_name in file_names:\n",
    "            zf.write('./' + file_name, file_name, compress_type=compression)\n",
    "\n",
    "file_names = ['answers.json', notebook_path]\n",
    "compress(file_names)"
   ],
   "outputs": [
    {
     "name": "stdout",
     "output_type": "stream",
     "text": [
      "File Paths:\n",
      "['answers.json', 'librechat.ipynb']\n"
     ]
    }
   ],
   "execution_count": 75
  },
  {
   "cell_type": "markdown",
   "metadata": {},
   "source": [
    "<p dir=rtl style=\"direction: rtl; text-align: justify; line-height:200%; font-family:vazir; font-size:medium\">\n",
    "<font face=\"vazir\">\n",
    "اکنون کافیست فایل <code>result.zip</code> را داخل سامانه داوری ارسال کنید تا امتیاز شما محاسبه شود.\n",
    "</font>\n",
    "</p>"
   ]
  },
  {
   "cell_type": "markdown",
   "metadata": {},
   "source": [
    "<p dir=rtl align=center style=\"line-height:200%;font-family:vazir;color:#0099cc\">\n",
    "<font face=\"vazir\" color=\"#0099cc\">\n",
    "© <a href=\"https://quera.org/\" target=\"_blank\">کوئرا | Quera</a>\n",
    "</font>\n",
    "</p>"
   ]
  }
 ],
 "metadata": {
  "kernelspec": {
   "display_name": "py311",
   "language": "python",
   "name": "python3"
  },
  "language_info": {
   "codemirror_mode": {
    "name": "ipython",
    "version": 3
   },
   "file_extension": ".py",
   "mimetype": "text/x-python",
   "name": "python",
   "nbconvert_exporter": "python",
   "pygments_lexer": "ipython3",
   "version": "3.11.9"
  }
 },
 "nbformat": 4,
 "nbformat_minor": 2
}
